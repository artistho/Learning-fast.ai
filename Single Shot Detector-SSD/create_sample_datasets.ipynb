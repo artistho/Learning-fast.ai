{
 "cells": [
  {
   "cell_type": "markdown",
   "metadata": {},
   "source": [
    "### Create Sample Datasets\n",
    "> When \"training\" and \"testing\" datasets used to run neuron networks are large, it is good practice to test the model first by using smaller batch of data, so to ensure that your pipeline are working correctly.  I call these smaller batches of data \"sample training\" and \"sample testing\" datasets.  These smaller datasets are random copies of the larger training and testing datasets.  This notebook contains the code for the creation of the sample datasets. \n",
    "\n",
    "As an example, I will use the \"Street View House Number\" datasets, which is already downloaded in my computer:<br> \n",
    "1) Print current directory to find out how folders are structured.<br>\n",
    "2) Create paths variables for the following folders: \"train\", \"test\", \"sample/train\",    \"sample/validation\", and \"sample/test\".<br>\n",
    "3) Create directories for: \"sample/train\" and \"sample/validation\", if they do not exist. <br>\n",
    "4) Find the number of the images in \"train\" dataset.<br>\n",
    "5) Randomly select 120 images from \"train\" dataset and copy them to \"sample/train\" folder.  Randomly select 20 images from \"sample/train\" dataset and \"move\" these 20 images to \"sample/validation\" dataset. Finally, check if the images are correctly located in \"sample/train\" and \"sample/validation\".<br>\n",
    "6) Repeat steps 3 to 5 to create \"sample/test\" dataset.<br>"
   ]
  },
  {
   "cell_type": "code",
   "execution_count": 19,
   "metadata": {},
   "outputs": [],
   "source": [
    "# Import requirement.\n",
    "from shutil import copyfile\n",
    "from pathlib import Path\n",
    "import random\n",
    "import collections\n",
    "import os\n",
    "import glob\n",
    "import pandas as pd\n",
    "import json"
   ]
  },
  {
   "cell_type": "markdown",
   "metadata": {},
   "source": [
    "Step 1: Print data dir."
   ]
  },
  {
   "cell_type": "code",
   "execution_count": 2,
   "metadata": {},
   "outputs": [
    {
     "data": {
      "text/plain": [
       "[PosixPath('data/svhn/sample'),\n",
       " PosixPath('data/svhn/models'),\n",
       " PosixPath('data/svhn/train'),\n",
       " PosixPath('data/svhn/test.json'),\n",
       " PosixPath('data/svhn/testing.json'),\n",
       " PosixPath('data/svhn/validation'),\n",
       " PosixPath('data/svhn/svhn_dataextract_tojson.py'),\n",
       " PosixPath('data/svhn/train.json'),\n",
       " PosixPath('data/svhn/test'),\n",
       " PosixPath('data/svhn/digitStruct.json'),\n",
       " PosixPath('data/svhn/digitStruct.mat'),\n",
       " PosixPath('data/svhn/extra')]"
      ]
     },
     "execution_count": 2,
     "metadata": {},
     "output_type": "execute_result"
    }
   ],
   "source": [
    "# dir data/svhn is where SVHN datasets and related files are located.\n",
    "PATH = Path('data/svhn')\n",
    "list(PATH.iterdir())\n",
    "# \"sample\" folder not available."
   ]
  },
  {
   "cell_type": "markdown",
   "metadata": {},
   "source": [
    "Step 2: Build directories, create paths var."
   ]
  },
  {
   "cell_type": "code",
   "execution_count": 22,
   "metadata": {},
   "outputs": [],
   "source": [
    "# type: pathlib.PosixPath\n",
    "PATH_TRA = Path(PATH/'train') # Create path->'svhn/train' folder.\n",
    "PATH_TES = Path(PATH/'test') # Create path->'svhn/test' folder.\n",
    "P_SAMPLE = Path(PATH/'sample') # Create path->'svhn/sample' folder."
   ]
  },
  {
   "cell_type": "markdown",
   "metadata": {},
   "source": [
    "Step 3: Create dirs: \"sample/train\", \"sample/validation\", and \"sample/test\"."
   ]
  },
  {
   "cell_type": "code",
   "execution_count": 4,
   "metadata": {},
   "outputs": [],
   "source": [
    "# Create path->'sample/train' folder.\n",
    "P_SAMPLE_TRA = P_SAMPLE/'train'\n",
    "P_SAMPLE_TRA.mkdir(parents = True, exist_ok = True)\n",
    "# Create path->'sample/validation' folder.\n",
    "P_SAMPLE_VAL = P_SAMPLE/'validation'\n",
    "P_SAMPLE_VAL.mkdir(parents = True, exist_ok = True)\n",
    "# Use Path.exists() to confirm if folder has been created.\n",
    "# P_SAMPLE_TRA.exists() # True"
   ]
  },
  {
   "cell_type": "markdown",
   "metadata": {},
   "source": [
    "Step 4: Find total number of images in \"svhn/train\" folder.    "
   ]
  },
  {
   "cell_type": "code",
   "execution_count": 5,
   "metadata": {},
   "outputs": [
    {
     "name": "stdout",
     "output_type": "stream",
     "text": [
      "Total number of images in folder \"train\" is 33402.\n"
     ]
    }
   ],
   "source": [
    "fn_sample = []\n",
    "for i in PATH_TRA.rglob('*.png'):\n",
    "    names = i.name\n",
    "    fn_sample.append(names)\n",
    "print('Total number of images in folder \"train\" is {}.'.format(len(fn_sample)))    "
   ]
  },
  {
   "cell_type": "markdown",
   "metadata": {},
   "source": [
    "Step 5: Randomly select 120 images, randomly copy 100 to \"sample/train\" and 20 for \"sample/validation\"."
   ]
  },
  {
   "cell_type": "code",
   "execution_count": 6,
   "metadata": {},
   "outputs": [],
   "source": [
    "# Randomly select 120 images and copy them to sample/train or P_SAMPLE_TRA\n",
    "random.shuffle(fn_sample)\n",
    "fn_sample_train = fn_sample[0:120]\n",
    "# Notes:\n",
    "# fn_sample_train # type list\n",
    "# fn_sample_train[0] # type str"
   ]
  },
  {
   "cell_type": "code",
   "execution_count": 7,
   "metadata": {},
   "outputs": [],
   "source": [
    "# Copy 120 images to P_SAMPLE_TRA\n",
    "for i in range(len(fn_sample_train)):\n",
    "    copyfile(str(PATH_TRA/fn_sample_train[i]), str(P_SAMPLE_TRA/fn_sample_train[i]))\n",
    "    \n",
    "# Note:\n",
    "# type pathlib.PosixPath should be converted to str, so that it can be used in \"copyfile()\".\""
   ]
  },
  {
   "cell_type": "code",
   "execution_count": 8,
   "metadata": {},
   "outputs": [
    {
     "data": {
      "text/plain": [
       "Counter({'.png': 220})"
      ]
     },
     "execution_count": 8,
     "metadata": {},
     "output_type": "execute_result"
    }
   ],
   "source": [
    "# Finding the qty of files in P_SAMPLE_TRA.\n",
    "collections.Counter(p.suffix for p in P_SAMPLE_TRA.rglob('*.png*'))"
   ]
  },
  {
   "cell_type": "code",
   "execution_count": 9,
   "metadata": {},
   "outputs": [],
   "source": [
    "# Randomly move 20 files from P_SAMPLE_TRA to P_SAMPLE_VAL.\n",
    "random.shuffle(fn_sample_train)\n",
    "fn_sample_val = fn_sample_train[0:20]\n",
    "\n",
    "for i in range(len(fn_sample_val)):\n",
    "    os.rename(str(P_SAMPLE_TRA/fn_sample_val[i]), str(P_SAMPLE_VAL/fn_sample_val[i]))"
   ]
  },
  {
   "cell_type": "code",
   "execution_count": 10,
   "metadata": {},
   "outputs": [
    {
     "name": "stdout",
     "output_type": "stream",
     "text": [
      "There are 40 images in \"sample/validation\" folder.\n",
      "There are 200 images in \"sample/train\" folder\n"
     ]
    }
   ],
   "source": [
    "# Verify if 100 images are in P_SAMPLE_TRA and 20 images are in P_SAMPLE_VAL. \n",
    "val = collections.Counter(p.suffix for p in P_SAMPLE_VAL.rglob('*.png*'))\n",
    "train = collections.Counter(p.suffix for p in P_SAMPLE_TRA.rglob('*.png*')) \n",
    "print('There are {} images in \"sample/validation\" folder.'.format(val['.png']))\n",
    "print('There are {} images in \"sample/train\" folder'.format(train['.png']))"
   ]
  },
  {
   "cell_type": "markdown",
   "metadata": {},
   "source": [
    "Step 6: Repeat steps 3 and 5, using \"svhn/test\" as  and \"svhn/sample/test\"."
   ]
  },
  {
   "cell_type": "code",
   "execution_count": 11,
   "metadata": {},
   "outputs": [],
   "source": [
    "# Create path->'sample/test' folder.\n",
    "P_SAMPLE_TES = P_SAMPLE/'test'\n",
    "P_SAMPLE_TES.mkdir(parents = True, exist_ok = True)"
   ]
  },
  {
   "cell_type": "code",
   "execution_count": 12,
   "metadata": {},
   "outputs": [
    {
     "name": "stdout",
     "output_type": "stream",
     "text": [
      "Total number of images in folder \"test\" is 13068.\n"
     ]
    }
   ],
   "source": [
    "# Find total qty of images in \"svhn/test\" folder.\n",
    "fn_sample_1 = []\n",
    "for i in PATH_TES.rglob('*.png'):\n",
    "    names = i.name\n",
    "    fn_sample_1.append(names)\n",
    "\n",
    "print('Total number of images in folder \"test\" is {}.'.format(len(fn_sample_1)))    "
   ]
  },
  {
   "cell_type": "code",
   "execution_count": 13,
   "metadata": {},
   "outputs": [],
   "source": [
    "# Randomly select 50 images and copy them to sample/test or P_SAMPLE_Tes\n",
    "random.shuffle(fn_sample_1)\n",
    "fn_sample_test = fn_sample_1[:50]\n",
    "\n",
    "for i in range(len(fn_sample_test)):\n",
    "    copyfile(str(PATH_TES/fn_sample_test[i]), str(P_SAMPLE_TES/fn_sample_test[i]))"
   ]
  },
  {
   "cell_type": "code",
   "execution_count": 14,
   "metadata": {},
   "outputs": [
    {
     "name": "stdout",
     "output_type": "stream",
     "text": [
      "There are 100 images in \"sample/test\" folder.\n"
     ]
    }
   ],
   "source": [
    "# Finding out the qty of images in P_SAMPLE_TES.\n",
    "test = collections.Counter(p.suffix for p in P_SAMPLE_TES.rglob('*.png*'))\n",
    "print('There are {} images in \"sample/test\" folder.'.format(test['.png']))"
   ]
  },
  {
   "cell_type": "markdown",
   "metadata": {},
   "source": [
    "### End"
   ]
  },
  {
   "cell_type": "code",
   "execution_count": null,
   "metadata": {},
   "outputs": [],
   "source": []
  },
  {
   "cell_type": "code",
   "execution_count": null,
   "metadata": {},
   "outputs": [],
   "source": []
  }
 ],
 "metadata": {
  "kernelspec": {
   "display_name": "Python 3",
   "language": "python",
   "name": "python3"
  },
  "language_info": {
   "codemirror_mode": {
    "name": "ipython",
    "version": 3
   },
   "file_extension": ".py",
   "mimetype": "text/x-python",
   "name": "python",
   "nbconvert_exporter": "python",
   "pygments_lexer": "ipython3",
   "version": "3.6.5"
  }
 },
 "nbformat": 4,
 "nbformat_minor": 2
}
