{
 "cells": [
  {
   "cell_type": "markdown",
   "metadata": {},
   "source": [
    "### Create CSV Files for Data Inputs\n",
    ">There are 2 methods to prepare your folders for image classification:<br> a) Organize your folders into \"train\", \"validation\", \"test\" folders.  In \"train\" and \"validation\" folders, add the different categories to be classified. For ex., if the goal is to classify dolphin and sharks, then create subfolders named \"dolphin\" and \"sharks\" in \"train\" and \"validation\" folders.<br> <br>b) Suppose you have 20 categories to classify instead of 2 categories. It is rather burdensome to create 20 folders with images for each category.  To ease the process, we can just create a file with CSV format.  The CSV file contains data of the \"filenames\" or \"image_names\" and the \"labels\".<br><br>\n",
    "The codes presented in this notebook, creates CSV files for data inputs.<br><br>\n",
    "In fast.ai library, to input data using process 'a)', use this method:<br> * **ImageClassifierData.from_paths()**. <br>\n",
    "On the hand, to input data using process 'b)', use this method:<br> * **ImageClassifierData.from_csv()**.\n",
    "\n",
    "\n",
    "\n",
    "\n"
   ]
  },
  {
   "cell_type": "code",
   "execution_count": 1,
   "metadata": {},
   "outputs": [],
   "source": [
    "%reload_ext autoreload\n",
    "%autoreload 2\n",
    "%matplotlib inline"
   ]
  },
  {
   "cell_type": "code",
   "execution_count": 2,
   "metadata": {},
   "outputs": [],
   "source": [
    "from fastai.conv_learner import *"
   ]
  },
  {
   "cell_type": "raw",
   "metadata": {},
   "source": [
    "1. Create paths to access the data files/folders."
   ]
  },
  {
   "cell_type": "code",
   "execution_count": 3,
   "metadata": {},
   "outputs": [
    {
     "data": {
      "text/plain": [
       "[PosixPath('data/svhn/sample'),\n",
       " PosixPath('data/svhn/train.csv'),\n",
       " PosixPath('data/svhn/sample_train.csv'),\n",
       " PosixPath('data/svhn/models'),\n",
       " PosixPath('data/svhn/train'),\n",
       " PosixPath('data/svhn/test.json'),\n",
       " PosixPath('data/svhn/testing.json'),\n",
       " PosixPath('data/svhn/validation'),\n",
       " PosixPath('data/svhn/sample_test.csv'),\n",
       " PosixPath('data/svhn/svhn_dataextract_tojson.py'),\n",
       " PosixPath('data/svhn/train.json'),\n",
       " PosixPath('data/svhn/test'),\n",
       " PosixPath('data/svhn/digitStruct.json'),\n",
       " PosixPath('data/svhn/digitStruct.mat'),\n",
       " PosixPath('data/svhn/extra'),\n",
       " PosixPath('data/svhn/test.csv')]"
      ]
     },
     "execution_count": 3,
     "metadata": {},
     "output_type": "execute_result"
    }
   ],
   "source": [
    "# svhn data location.\n",
    "PATH = Path('data/svhn') # Path(), pathlib lib\n",
    "# sample data location \n",
    "PATH_S = Path(PATH/'sample') # 'svhn/sample'\n",
    "S_TRAIN = Path(PATH_S/'train') # 'sample/train'\n",
    "S_VAL = Path(PATH_S/'validation') # 'sample/validation'\n",
    "S_TEST = Path(PATH_S/'test') # 'sample/test'\n",
    "TRAIN_JSON = Path(PATH/'train.json') # 'svhn/train.json'\n",
    "TEST_JSON = Path(PATH/'test.json') # 'svhn/test.json'\n",
    "list(PATH.iterdir()) # iterdir(), pathlib lib"
   ]
  },
  {
   "cell_type": "markdown",
   "metadata": {},
   "source": [
    "2. Open \"train.json\" and \"test.json\". This 2 files contains data, 'filename', 'label' values, 'bbox' dimensions for all the images in SVHN dataset.  I will extra them so that they can be used later to create CSV files. "
   ]
  },
  {
   "cell_type": "code",
   "execution_count": 4,
   "metadata": {},
   "outputs": [],
   "source": [
    "# Open \"train.json\" and \"test.json\" file. \n",
    "def open_json(path):\n",
    "    with open(path) as f:\n",
    "        data = json.load(f) # type list\n",
    "    return data"
   ]
  },
  {
   "cell_type": "code",
   "execution_count": 8,
   "metadata": {},
   "outputs": [
    {
     "data": {
      "text/plain": [
       "{'filename': '1.png',\n",
       " 'boxes': [{'height': 219.0,\n",
       "   'label': 1.0,\n",
       "   'left': 246.0,\n",
       "   'top': 77.0,\n",
       "   'width': 81.0},\n",
       "  {'height': 219.0, 'label': 9.0, 'left': 323.0, 'top': 81.0, 'width': 96.0}]}"
      ]
     },
     "execution_count": 8,
     "metadata": {},
     "output_type": "execute_result"
    }
   ],
   "source": [
    "# What's inside \"train.json\"?\n",
    "train = open_json(TRAIN_JSON);train[0] # type list"
   ]
  },
  {
   "cell_type": "code",
   "execution_count": 9,
   "metadata": {},
   "outputs": [
    {
     "data": {
      "text/plain": [
       "{'filename': '1.png',\n",
       " 'boxes': [{'height': 30.0,\n",
       "   'label': 5.0,\n",
       "   'left': 43.0,\n",
       "   'top': 7.0,\n",
       "   'width': 19.0}]}"
      ]
     },
     "execution_count": 9,
     "metadata": {},
     "output_type": "execute_result"
    }
   ],
   "source": [
    "# What's inside \"test.json\"?\n",
    "test = open_json(TEST_JSON);test[0]"
   ]
  },
  {
   "cell_type": "code",
   "execution_count": 10,
   "metadata": {},
   "outputs": [
    {
     "name": "stdout",
     "output_type": "stream",
     "text": [
      "Train -> filename: 1, first label: 1.0, second label: 9.0\n"
     ]
    }
   ],
   "source": [
    "# \"train.json\"\n",
    "# Extract first label value, '1.0' from key 'label', there are 2 values:\n",
    "label_1_train = train[0]['boxes'][0]['label'];\n",
    "# Extract the second label value, '9.0':\n",
    "label_2_train = train[0]['boxes'][1]['label'];\n",
    "# Extract value of the key 'filename':\n",
    "filename_train = train[0]['filename'][0];\n",
    "print('Train -> filename: {}, first label: {}, second label: {}'.format(filename_train[0], label_1_train, label_2_train))"
   ]
  },
  {
   "cell_type": "code",
   "execution_count": 11,
   "metadata": {
    "scrolled": true
   },
   "outputs": [
    {
     "name": "stdout",
     "output_type": "stream",
     "text": [
      "Test -> filename: 1, first label: 5.0\n"
     ]
    }
   ],
   "source": [
    "# \"test.json\"\n",
    "# Extract first lable value, '5.0' from key 'label', there is only 1 value:\n",
    "label_1_test = test[0]['boxes'][0]['label'];\n",
    "# Extract values for key 'filename':\n",
    "filename_test = test[0]['filename'][0];\n",
    "print('Test -> filename: {}, first label: {}'.format(filename_test[0], label_1_test))"
   ]
  },
  {
   "cell_type": "code",
   "execution_count": 12,
   "metadata": {},
   "outputs": [
    {
     "name": "stdout",
     "output_type": "stream",
     "text": [
      "[['1.png', '19'], ['2.png', '23'], ['3.png', '25'], ['4.png', '93'], ['5.png', '31'], ['6.png', '33'], ['7.png', '28'], ['8.png', '744'], ['9.png', '128'], ['10.png', '16']]\n"
     ]
    }
   ],
   "source": [
    "# Build 'train.csv'\n",
    "# Create a list in this format ['filename', 'concatenate label_1 + ... + label_n'].\n",
    "result_train = []\n",
    "for full in train:\n",
    "    file_r = []\n",
    "    f_name = (full['filename'])\n",
    "    file_r.append(f_name)\n",
    "    box_r = []\n",
    "    for full_2 in (full['boxes']):\n",
    "        b_name = full_2['label']\n",
    "        box_r.append(str(int(b_name)))\n",
    "    label_real = (''.join(box_r))\n",
    "    file_r.append(label_real)\n",
    "    result_train.append(file_r)\n",
    "print(result_train[0:10]) # print first 10 results"
   ]
  },
  {
   "cell_type": "code",
   "execution_count": 13,
   "metadata": {},
   "outputs": [
    {
     "data": {
      "text/html": [
       "<div>\n",
       "<style scoped>\n",
       "    .dataframe tbody tr th:only-of-type {\n",
       "        vertical-align: middle;\n",
       "    }\n",
       "\n",
       "    .dataframe tbody tr th {\n",
       "        vertical-align: top;\n",
       "    }\n",
       "\n",
       "    .dataframe thead th {\n",
       "        text-align: right;\n",
       "    }\n",
       "</style>\n",
       "<table border=\"1\" class=\"dataframe\">\n",
       "  <thead>\n",
       "    <tr style=\"text-align: right;\">\n",
       "      <th></th>\n",
       "      <th>filename</th>\n",
       "      <th>label</th>\n",
       "    </tr>\n",
       "  </thead>\n",
       "  <tbody>\n",
       "    <tr>\n",
       "      <th>0</th>\n",
       "      <td>1.png</td>\n",
       "      <td>19</td>\n",
       "    </tr>\n",
       "    <tr>\n",
       "      <th>1</th>\n",
       "      <td>2.png</td>\n",
       "      <td>23</td>\n",
       "    </tr>\n",
       "    <tr>\n",
       "      <th>2</th>\n",
       "      <td>3.png</td>\n",
       "      <td>25</td>\n",
       "    </tr>\n",
       "    <tr>\n",
       "      <th>3</th>\n",
       "      <td>4.png</td>\n",
       "      <td>93</td>\n",
       "    </tr>\n",
       "    <tr>\n",
       "      <th>4</th>\n",
       "      <td>5.png</td>\n",
       "      <td>31</td>\n",
       "    </tr>\n",
       "  </tbody>\n",
       "</table>\n",
       "</div>"
      ],
      "text/plain": [
       "  filename label\n",
       "0    1.png    19\n",
       "1    2.png    23\n",
       "2    3.png    25\n",
       "3    4.png    93\n",
       "4    5.png    31"
      ]
     },
     "execution_count": 13,
     "metadata": {},
     "output_type": "execute_result"
    }
   ],
   "source": [
    "# Create a CSV file with \"filename\" and \"label\" columns next to each other.\n",
    "columns = ['filename', 'label']\n",
    "df_train = pd.DataFrame.from_records(result_train, columns = columns); df_train.head()"
   ]
  },
  {
   "cell_type": "code",
   "execution_count": 14,
   "metadata": {},
   "outputs": [
    {
     "data": {
      "text/html": [
       "<div>\n",
       "<style scoped>\n",
       "    .dataframe tbody tr th:only-of-type {\n",
       "        vertical-align: middle;\n",
       "    }\n",
       "\n",
       "    .dataframe tbody tr th {\n",
       "        vertical-align: top;\n",
       "    }\n",
       "\n",
       "    .dataframe thead th {\n",
       "        text-align: right;\n",
       "    }\n",
       "</style>\n",
       "<table border=\"1\" class=\"dataframe\">\n",
       "  <thead>\n",
       "    <tr style=\"text-align: right;\">\n",
       "      <th></th>\n",
       "      <th>filename</th>\n",
       "      <th>label</th>\n",
       "    </tr>\n",
       "  </thead>\n",
       "  <tbody>\n",
       "    <tr>\n",
       "      <th>0</th>\n",
       "      <td>1</td>\n",
       "      <td>19</td>\n",
       "    </tr>\n",
       "    <tr>\n",
       "      <th>1</th>\n",
       "      <td>2</td>\n",
       "      <td>23</td>\n",
       "    </tr>\n",
       "    <tr>\n",
       "      <th>2</th>\n",
       "      <td>3</td>\n",
       "      <td>25</td>\n",
       "    </tr>\n",
       "    <tr>\n",
       "      <th>3</th>\n",
       "      <td>4</td>\n",
       "      <td>93</td>\n",
       "    </tr>\n",
       "    <tr>\n",
       "      <th>4</th>\n",
       "      <td>5</td>\n",
       "      <td>31</td>\n",
       "    </tr>\n",
       "  </tbody>\n",
       "</table>\n",
       "</div>"
      ],
      "text/plain": [
       "   filename label\n",
       "0         1    19\n",
       "1         2    23\n",
       "2         3    25\n",
       "3         4    93\n",
       "4         5    31"
      ]
     },
     "execution_count": 14,
     "metadata": {},
     "output_type": "execute_result"
    }
   ],
   "source": [
    "# Remove \".png\" from \"filename\":\n",
    "df_train = pd.DataFrame.from_records(result_train, columns = columns)\n",
    "df_train['filename'] = df_train.filename.str.extract('(\\d+)', expand = True).astype(int)\n",
    "df_train.head()"
   ]
  },
  {
   "cell_type": "code",
   "execution_count": 15,
   "metadata": {},
   "outputs": [],
   "source": [
    "# Convert DataFrame to CSV, save it in 'data/svhn':\n",
    "df_train.to_csv(PATH/'train.csv')"
   ]
  },
  {
   "cell_type": "code",
   "execution_count": 16,
   "metadata": {},
   "outputs": [
    {
     "name": "stdout",
     "output_type": "stream",
     "text": [
      "[['1.png', '5'], ['2.png', '2110'], ['3.png', '6'], ['4.png', '1'], ['5.png', '9'], ['6.png', '1'], ['7.png', '183'], ['8.png', '65'], ['9.png', '144'], ['10.png', '16']]\n"
     ]
    }
   ],
   "source": [
    "# Build 'test.csv'\n",
    "# Create a list in this format ['filename', 'concatenate label_1 + ... + label_n'].\n",
    "result_test = []\n",
    "for full in test:\n",
    "    file_r = []\n",
    "    f_name = (full['filename'])\n",
    "    file_r.append(f_name)\n",
    "    box_r = []\n",
    "    for full_2 in (full['boxes']):\n",
    "        b_name = full_2['label']\n",
    "        box_r.append(str(int(b_name)))\n",
    "    label_real = (''.join(box_r))\n",
    "    file_r.append(label_real)\n",
    "    result_test.append(file_r)\n",
    "print(result_test[0:10]) # print first 10 results"
   ]
  },
  {
   "cell_type": "code",
   "execution_count": 17,
   "metadata": {},
   "outputs": [
    {
     "data": {
      "text/html": [
       "<div>\n",
       "<style scoped>\n",
       "    .dataframe tbody tr th:only-of-type {\n",
       "        vertical-align: middle;\n",
       "    }\n",
       "\n",
       "    .dataframe tbody tr th {\n",
       "        vertical-align: top;\n",
       "    }\n",
       "\n",
       "    .dataframe thead th {\n",
       "        text-align: right;\n",
       "    }\n",
       "</style>\n",
       "<table border=\"1\" class=\"dataframe\">\n",
       "  <thead>\n",
       "    <tr style=\"text-align: right;\">\n",
       "      <th></th>\n",
       "      <th>filename</th>\n",
       "      <th>label</th>\n",
       "    </tr>\n",
       "  </thead>\n",
       "  <tbody>\n",
       "    <tr>\n",
       "      <th>0</th>\n",
       "      <td>1.png</td>\n",
       "      <td>5</td>\n",
       "    </tr>\n",
       "    <tr>\n",
       "      <th>1</th>\n",
       "      <td>2.png</td>\n",
       "      <td>2110</td>\n",
       "    </tr>\n",
       "    <tr>\n",
       "      <th>2</th>\n",
       "      <td>3.png</td>\n",
       "      <td>6</td>\n",
       "    </tr>\n",
       "    <tr>\n",
       "      <th>3</th>\n",
       "      <td>4.png</td>\n",
       "      <td>1</td>\n",
       "    </tr>\n",
       "    <tr>\n",
       "      <th>4</th>\n",
       "      <td>5.png</td>\n",
       "      <td>9</td>\n",
       "    </tr>\n",
       "  </tbody>\n",
       "</table>\n",
       "</div>"
      ],
      "text/plain": [
       "  filename label\n",
       "0    1.png     5\n",
       "1    2.png  2110\n",
       "2    3.png     6\n",
       "3    4.png     1\n",
       "4    5.png     9"
      ]
     },
     "execution_count": 17,
     "metadata": {},
     "output_type": "execute_result"
    }
   ],
   "source": [
    "# Create a CSV file with \"filename\" and \"label\" columns next to each other.\n",
    "columns = ['filename', 'label']\n",
    "df = pd.DataFrame.from_records(result_test, columns = columns); df.head()"
   ]
  },
  {
   "cell_type": "code",
   "execution_count": 18,
   "metadata": {},
   "outputs": [
    {
     "data": {
      "text/html": [
       "<div>\n",
       "<style scoped>\n",
       "    .dataframe tbody tr th:only-of-type {\n",
       "        vertical-align: middle;\n",
       "    }\n",
       "\n",
       "    .dataframe tbody tr th {\n",
       "        vertical-align: top;\n",
       "    }\n",
       "\n",
       "    .dataframe thead th {\n",
       "        text-align: right;\n",
       "    }\n",
       "</style>\n",
       "<table border=\"1\" class=\"dataframe\">\n",
       "  <thead>\n",
       "    <tr style=\"text-align: right;\">\n",
       "      <th></th>\n",
       "      <th>filename</th>\n",
       "      <th>label</th>\n",
       "    </tr>\n",
       "  </thead>\n",
       "  <tbody>\n",
       "    <tr>\n",
       "      <th>0</th>\n",
       "      <td>1</td>\n",
       "      <td>5</td>\n",
       "    </tr>\n",
       "    <tr>\n",
       "      <th>1</th>\n",
       "      <td>2</td>\n",
       "      <td>2110</td>\n",
       "    </tr>\n",
       "    <tr>\n",
       "      <th>2</th>\n",
       "      <td>3</td>\n",
       "      <td>6</td>\n",
       "    </tr>\n",
       "    <tr>\n",
       "      <th>3</th>\n",
       "      <td>4</td>\n",
       "      <td>1</td>\n",
       "    </tr>\n",
       "    <tr>\n",
       "      <th>4</th>\n",
       "      <td>5</td>\n",
       "      <td>9</td>\n",
       "    </tr>\n",
       "  </tbody>\n",
       "</table>\n",
       "</div>"
      ],
      "text/plain": [
       "   filename label\n",
       "0         1     5\n",
       "1         2  2110\n",
       "2         3     6\n",
       "3         4     1\n",
       "4         5     9"
      ]
     },
     "execution_count": 18,
     "metadata": {},
     "output_type": "execute_result"
    }
   ],
   "source": [
    "# Remove \".png\" from \"filename\":\n",
    "df_test = pd.DataFrame.from_records(result_test, columns = columns)\n",
    "df_test['filename'] = df_test.filename.str.extract('(\\d+)', expand = True).astype(int)\n",
    "df_test.head()"
   ]
  },
  {
   "cell_type": "code",
   "execution_count": 19,
   "metadata": {},
   "outputs": [],
   "source": [
    "# Convert DataFrame to CSV, save it in 'data/svhn':\n",
    "df_test.to_csv(PATH/'test.csv')"
   ]
  },
  {
   "cell_type": "markdown",
   "metadata": {},
   "source": [
    "3. From the data obtained in 'train.csv ', we create CSV files for 'sample/sample_train.csv' and 'sample/sample_validation.csv'.   From 'test.csv', we create CSV file for 'sample/sample_test.csv\".   These 3 files, 'sample_train.csv', 'sample_validation.csv', and 'sample_test.csv' will be used as inputs when we use sample datasets."
   ]
  },
  {
   "cell_type": "code",
   "execution_count": 20,
   "metadata": {},
   "outputs": [],
   "source": [
    "# Function 'folder_inf()' will print path and image quantity.\n",
    "\n",
    "def folder_inf(folder, formato):\n",
    "    file_names = []\n",
    "    for i in folder.rglob(formato):\n",
    "        s = i.name\n",
    "        num = int(re.findall(r'\\b\\d+\\b', s)[0]) # remove \".png\" characters\n",
    "        file_names.append(num)\n",
    "    print('Total number of images(type {}) in folder \"{}\" is \"{}\".'.format(formato, folder,\n",
    "                                                                           len(file_names)))\n",
    "    return(file_names)\n"
   ]
  },
  {
   "cell_type": "code",
   "execution_count": 21,
   "metadata": {},
   "outputs": [
    {
     "name": "stdout",
     "output_type": "stream",
     "text": [
      "Total number of images(type *png) in folder \"data/svhn/sample/train\" is \"100\".\n"
     ]
    },
    {
     "data": {
      "text/plain": [
       "[32934, 14893, 11264, 31961, 21096, 7297, 5827, 24429, 12173, 2984]"
      ]
     },
     "execution_count": 21,
     "metadata": {},
     "output_type": "execute_result"
    }
   ],
   "source": [
    "# Var 'sample_train_csv' contains folder path, file quantities and filenames(w/out '.png':\n",
    "sample_train_csv = folder_inf(S_TRAIN, \"*png\")\n",
    "sample_train_csv[0:10]"
   ]
  },
  {
   "cell_type": "code",
   "execution_count": 22,
   "metadata": {},
   "outputs": [
    {
     "name": "stdout",
     "output_type": "stream",
     "text": [
      "Total number of images(type *png) in folder \"data/svhn/sample/validation\" is \"20\".\n"
     ]
    },
    {
     "data": {
      "text/plain": [
       "[21505, 12870, 31452, 4044, 13839, 11411, 22649, 23695, 30651, 12558]"
      ]
     },
     "execution_count": 22,
     "metadata": {},
     "output_type": "execute_result"
    }
   ],
   "source": [
    "# Var 'sample_validation_csv' contains folder path, file quantities and filenames(w/out '.png')\n",
    "sample_validation_csv = folder_inf(S_VAL, \"*png\")\n",
    "sample_validation_csv[0:10]"
   ]
  },
  {
   "cell_type": "code",
   "execution_count": 23,
   "metadata": {},
   "outputs": [
    {
     "name": "stdout",
     "output_type": "stream",
     "text": [
      "Total number of images(type *png) in folder \"data/svhn/sample/test\" is \"50\".\n"
     ]
    },
    {
     "data": {
      "text/plain": [
       "[4844, 2907, 8390, 11314, 8860, 9381, 5397, 3217, 7952, 2619]"
      ]
     },
     "execution_count": 23,
     "metadata": {},
     "output_type": "execute_result"
    }
   ],
   "source": [
    "# Var 'sample_test_csv' contains folder path, file quantities and filenames(w/out '.png')\n",
    "sample_test_csv = folder_inf(S_TEST, \"*png\")\n",
    "sample_test_csv[0:10]"
   ]
  },
  {
   "cell_type": "code",
   "execution_count": 24,
   "metadata": {},
   "outputs": [],
   "source": [
    "# We will extract information from 'train.csv' and 'test.csv' to create 'sample_train.csv', \n",
    "#   'sample_validation.csv' and'sample_test.csv'\n",
    "read_train = pd.read_csv(PATH/'train.csv') # read data in 'train.csv'\n",
    "read_test = pd.read_csv(PATH/'test.csv') # read data in 'test.csv'"
   ]
  },
  {
   "cell_type": "code",
   "execution_count": 25,
   "metadata": {},
   "outputs": [
    {
     "data": {
      "text/html": [
       "<div>\n",
       "<style scoped>\n",
       "    .dataframe tbody tr th:only-of-type {\n",
       "        vertical-align: middle;\n",
       "    }\n",
       "\n",
       "    .dataframe tbody tr th {\n",
       "        vertical-align: top;\n",
       "    }\n",
       "\n",
       "    .dataframe thead th {\n",
       "        text-align: right;\n",
       "    }\n",
       "</style>\n",
       "<table border=\"1\" class=\"dataframe\">\n",
       "  <thead>\n",
       "    <tr style=\"text-align: right;\">\n",
       "      <th></th>\n",
       "      <th>filename</th>\n",
       "      <th>label</th>\n",
       "    </tr>\n",
       "  </thead>\n",
       "  <tbody>\n",
       "    <tr>\n",
       "      <th>32934</th>\n",
       "      <td>32935</td>\n",
       "      <td>94</td>\n",
       "    </tr>\n",
       "    <tr>\n",
       "      <th>14893</th>\n",
       "      <td>14894</td>\n",
       "      <td>4</td>\n",
       "    </tr>\n",
       "    <tr>\n",
       "      <th>11264</th>\n",
       "      <td>11265</td>\n",
       "      <td>342</td>\n",
       "    </tr>\n",
       "    <tr>\n",
       "      <th>31961</th>\n",
       "      <td>31962</td>\n",
       "      <td>5</td>\n",
       "    </tr>\n",
       "    <tr>\n",
       "      <th>21096</th>\n",
       "      <td>21097</td>\n",
       "      <td>38</td>\n",
       "    </tr>\n",
       "  </tbody>\n",
       "</table>\n",
       "</div>"
      ],
      "text/plain": [
       "       filename  label\n",
       "32934     32935     94\n",
       "14893     14894      4\n",
       "11264     11265    342\n",
       "31961     31962      5\n",
       "21096     21097     38"
      ]
     },
     "execution_count": 25,
     "metadata": {},
     "output_type": "execute_result"
    }
   ],
   "source": [
    "# Create 'sample_train.csv'\n",
    "sample_train_file = (read_train.take(sample_train_csv))\n",
    "df_s_train = pd.DataFrame(sample_train_file)\n",
    "df_s_train = df_s_train.loc[:, ~df_s_train.columns.str.contains('^Unnamed')]\n",
    "df_s_train.head()"
   ]
  },
  {
   "cell_type": "code",
   "execution_count": 26,
   "metadata": {},
   "outputs": [
    {
     "data": {
      "text/html": [
       "<div>\n",
       "<style scoped>\n",
       "    .dataframe tbody tr th:only-of-type {\n",
       "        vertical-align: middle;\n",
       "    }\n",
       "\n",
       "    .dataframe tbody tr th {\n",
       "        vertical-align: top;\n",
       "    }\n",
       "\n",
       "    .dataframe thead th {\n",
       "        text-align: right;\n",
       "    }\n",
       "</style>\n",
       "<table border=\"1\" class=\"dataframe\">\n",
       "  <thead>\n",
       "    <tr style=\"text-align: right;\">\n",
       "      <th></th>\n",
       "      <th>filename</th>\n",
       "      <th>label</th>\n",
       "    </tr>\n",
       "  </thead>\n",
       "  <tbody>\n",
       "    <tr>\n",
       "      <th>3</th>\n",
       "      <td>4</td>\n",
       "      <td>93</td>\n",
       "    </tr>\n",
       "    <tr>\n",
       "      <th>259</th>\n",
       "      <td>260</td>\n",
       "      <td>36</td>\n",
       "    </tr>\n",
       "    <tr>\n",
       "      <th>473</th>\n",
       "      <td>474</td>\n",
       "      <td>2367</td>\n",
       "    </tr>\n",
       "    <tr>\n",
       "      <th>1098</th>\n",
       "      <td>1099</td>\n",
       "      <td>31</td>\n",
       "    </tr>\n",
       "    <tr>\n",
       "      <th>1796</th>\n",
       "      <td>1797</td>\n",
       "      <td>44</td>\n",
       "    </tr>\n",
       "  </tbody>\n",
       "</table>\n",
       "</div>"
      ],
      "text/plain": [
       "      filename  label\n",
       "3            4     93\n",
       "259        260     36\n",
       "473        474   2367\n",
       "1098      1099     31\n",
       "1796      1797     44"
      ]
     },
     "execution_count": 26,
     "metadata": {},
     "output_type": "execute_result"
    }
   ],
   "source": [
    "# Sorting in ascending order.\n",
    "df_s_train = df_s_train.sort_values(by = 'filename', ascending = True)\n",
    "# Save 'sample_train.csv'.\n",
    "df_s_train.to_csv(PATH/'sample_train.csv')\n",
    "df_s_train.head()"
   ]
  },
  {
   "cell_type": "code",
   "execution_count": 27,
   "metadata": {},
   "outputs": [
    {
     "data": {
      "text/html": [
       "<div>\n",
       "<style scoped>\n",
       "    .dataframe tbody tr th:only-of-type {\n",
       "        vertical-align: middle;\n",
       "    }\n",
       "\n",
       "    .dataframe tbody tr th {\n",
       "        vertical-align: top;\n",
       "    }\n",
       "\n",
       "    .dataframe thead th {\n",
       "        text-align: right;\n",
       "    }\n",
       "</style>\n",
       "<table border=\"1\" class=\"dataframe\">\n",
       "  <thead>\n",
       "    <tr style=\"text-align: right;\">\n",
       "      <th></th>\n",
       "      <th>filename</th>\n",
       "      <th>label</th>\n",
       "    </tr>\n",
       "  </thead>\n",
       "  <tbody>\n",
       "    <tr>\n",
       "      <th>21505</th>\n",
       "      <td>21506</td>\n",
       "      <td>18</td>\n",
       "    </tr>\n",
       "    <tr>\n",
       "      <th>12870</th>\n",
       "      <td>12871</td>\n",
       "      <td>1</td>\n",
       "    </tr>\n",
       "    <tr>\n",
       "      <th>31452</th>\n",
       "      <td>31453</td>\n",
       "      <td>79</td>\n",
       "    </tr>\n",
       "    <tr>\n",
       "      <th>4044</th>\n",
       "      <td>4045</td>\n",
       "      <td>33</td>\n",
       "    </tr>\n",
       "    <tr>\n",
       "      <th>13839</th>\n",
       "      <td>13840</td>\n",
       "      <td>3</td>\n",
       "    </tr>\n",
       "  </tbody>\n",
       "</table>\n",
       "</div>"
      ],
      "text/plain": [
       "       filename  label\n",
       "21505     21506     18\n",
       "12870     12871      1\n",
       "31452     31453     79\n",
       "4044       4045     33\n",
       "13839     13840      3"
      ]
     },
     "execution_count": 27,
     "metadata": {},
     "output_type": "execute_result"
    }
   ],
   "source": [
    "# Create 'sample_validation.csv'\n",
    "sample_validation_file = (read_train.take(sample_validation_csv))\n",
    "df_s_val = pd.DataFrame(sample_validation_file)\n",
    "df_s_val = df_s_val.loc[:, ~df_s_val.columns.str.contains('^Unnamed')]\n",
    "df_s_val.head()"
   ]
  },
  {
   "cell_type": "code",
   "execution_count": 28,
   "metadata": {},
   "outputs": [
    {
     "data": {
      "text/html": [
       "<div>\n",
       "<style scoped>\n",
       "    .dataframe tbody tr th:only-of-type {\n",
       "        vertical-align: middle;\n",
       "    }\n",
       "\n",
       "    .dataframe tbody tr th {\n",
       "        vertical-align: top;\n",
       "    }\n",
       "\n",
       "    .dataframe thead th {\n",
       "        text-align: right;\n",
       "    }\n",
       "</style>\n",
       "<table border=\"1\" class=\"dataframe\">\n",
       "  <thead>\n",
       "    <tr style=\"text-align: right;\">\n",
       "      <th></th>\n",
       "      <th>filename</th>\n",
       "      <th>label</th>\n",
       "    </tr>\n",
       "  </thead>\n",
       "  <tbody>\n",
       "    <tr>\n",
       "      <th>4044</th>\n",
       "      <td>4045</td>\n",
       "      <td>33</td>\n",
       "    </tr>\n",
       "    <tr>\n",
       "      <th>6148</th>\n",
       "      <td>6149</td>\n",
       "      <td>14</td>\n",
       "    </tr>\n",
       "    <tr>\n",
       "      <th>10981</th>\n",
       "      <td>10982</td>\n",
       "      <td>78</td>\n",
       "    </tr>\n",
       "    <tr>\n",
       "      <th>11010</th>\n",
       "      <td>11011</td>\n",
       "      <td>3</td>\n",
       "    </tr>\n",
       "    <tr>\n",
       "      <th>11411</th>\n",
       "      <td>11412</td>\n",
       "      <td>45</td>\n",
       "    </tr>\n",
       "  </tbody>\n",
       "</table>\n",
       "</div>"
      ],
      "text/plain": [
       "       filename  label\n",
       "4044       4045     33\n",
       "6148       6149     14\n",
       "10981     10982     78\n",
       "11010     11011      3\n",
       "11411     11412     45"
      ]
     },
     "execution_count": 28,
     "metadata": {},
     "output_type": "execute_result"
    }
   ],
   "source": [
    "# Sorting in ascending order.\n",
    "df_s_val = df_s_val.sort_values(by = 'filename', ascending = True)\n",
    "# Saving 'sample_val.csv'\n",
    "df_s_val.to_csv(PATH/'sample_val.csv')\n",
    "df_s_val.head()"
   ]
  },
  {
   "cell_type": "code",
   "execution_count": 29,
   "metadata": {},
   "outputs": [
    {
     "data": {
      "text/html": [
       "<div>\n",
       "<style scoped>\n",
       "    .dataframe tbody tr th:only-of-type {\n",
       "        vertical-align: middle;\n",
       "    }\n",
       "\n",
       "    .dataframe tbody tr th {\n",
       "        vertical-align: top;\n",
       "    }\n",
       "\n",
       "    .dataframe thead th {\n",
       "        text-align: right;\n",
       "    }\n",
       "</style>\n",
       "<table border=\"1\" class=\"dataframe\">\n",
       "  <thead>\n",
       "    <tr style=\"text-align: right;\">\n",
       "      <th></th>\n",
       "      <th>filename</th>\n",
       "      <th>label</th>\n",
       "    </tr>\n",
       "  </thead>\n",
       "  <tbody>\n",
       "    <tr>\n",
       "      <th>4844</th>\n",
       "      <td>4845</td>\n",
       "      <td>19</td>\n",
       "    </tr>\n",
       "    <tr>\n",
       "      <th>2907</th>\n",
       "      <td>2908</td>\n",
       "      <td>27</td>\n",
       "    </tr>\n",
       "    <tr>\n",
       "      <th>8390</th>\n",
       "      <td>8391</td>\n",
       "      <td>1108</td>\n",
       "    </tr>\n",
       "    <tr>\n",
       "      <th>11314</th>\n",
       "      <td>11315</td>\n",
       "      <td>91</td>\n",
       "    </tr>\n",
       "    <tr>\n",
       "      <th>8860</th>\n",
       "      <td>8861</td>\n",
       "      <td>81</td>\n",
       "    </tr>\n",
       "  </tbody>\n",
       "</table>\n",
       "</div>"
      ],
      "text/plain": [
       "       filename  label\n",
       "4844       4845     19\n",
       "2907       2908     27\n",
       "8390       8391   1108\n",
       "11314     11315     91\n",
       "8860       8861     81"
      ]
     },
     "execution_count": 29,
     "metadata": {},
     "output_type": "execute_result"
    }
   ],
   "source": [
    "# Create 'sample_test.csv'\n",
    "sample_test_file = (read_test.take(sample_test_csv))\n",
    "df_s_test = pd.DataFrame(sample_test_file)\n",
    "df_s_test = df_s_test.loc[:, ~df_s_test.columns.str.contains('^Unnamed')]\n",
    "df_s_test.head()"
   ]
  },
  {
   "cell_type": "code",
   "execution_count": 30,
   "metadata": {},
   "outputs": [
    {
     "data": {
      "text/html": [
       "<div>\n",
       "<style scoped>\n",
       "    .dataframe tbody tr th:only-of-type {\n",
       "        vertical-align: middle;\n",
       "    }\n",
       "\n",
       "    .dataframe tbody tr th {\n",
       "        vertical-align: top;\n",
       "    }\n",
       "\n",
       "    .dataframe thead th {\n",
       "        text-align: right;\n",
       "    }\n",
       "</style>\n",
       "<table border=\"1\" class=\"dataframe\">\n",
       "  <thead>\n",
       "    <tr style=\"text-align: right;\">\n",
       "      <th></th>\n",
       "      <th>filename</th>\n",
       "      <th>label</th>\n",
       "    </tr>\n",
       "  </thead>\n",
       "  <tbody>\n",
       "    <tr>\n",
       "      <th>10</th>\n",
       "      <td>11</td>\n",
       "      <td>34</td>\n",
       "    </tr>\n",
       "    <tr>\n",
       "      <th>323</th>\n",
       "      <td>324</td>\n",
       "      <td>55</td>\n",
       "    </tr>\n",
       "    <tr>\n",
       "      <th>356</th>\n",
       "      <td>357</td>\n",
       "      <td>127</td>\n",
       "    </tr>\n",
       "    <tr>\n",
       "      <th>1164</th>\n",
       "      <td>1165</td>\n",
       "      <td>8101</td>\n",
       "    </tr>\n",
       "    <tr>\n",
       "      <th>1890</th>\n",
       "      <td>1891</td>\n",
       "      <td>2</td>\n",
       "    </tr>\n",
       "  </tbody>\n",
       "</table>\n",
       "</div>"
      ],
      "text/plain": [
       "      filename  label\n",
       "10          11     34\n",
       "323        324     55\n",
       "356        357    127\n",
       "1164      1165   8101\n",
       "1890      1891      2"
      ]
     },
     "execution_count": 30,
     "metadata": {},
     "output_type": "execute_result"
    }
   ],
   "source": [
    "# Sorting in ascending order\n",
    "df_s_test = df_s_test.sort_values(by = 'filename', ascending = True)\n",
    "# Saving 'sample_test.csv'\n",
    "df_s_test.to_csv(PATH/'sample_test.csv')\n",
    "df_s_test.head()"
   ]
  },
  {
   "cell_type": "markdown",
   "metadata": {},
   "source": [
    "### End"
   ]
  },
  {
   "cell_type": "code",
   "execution_count": null,
   "metadata": {},
   "outputs": [],
   "source": []
  },
  {
   "cell_type": "code",
   "execution_count": null,
   "metadata": {},
   "outputs": [],
   "source": []
  }
 ],
 "metadata": {
  "kernelspec": {
   "display_name": "Python 3",
   "language": "python",
   "name": "python3"
  },
  "language_info": {
   "codemirror_mode": {
    "name": "ipython",
    "version": 3
   },
   "file_extension": ".py",
   "mimetype": "text/x-python",
   "name": "python",
   "nbconvert_exporter": "python",
   "pygments_lexer": "ipython3",
   "version": "3.6.5"
  }
 },
 "nbformat": 4,
 "nbformat_minor": 2
}
